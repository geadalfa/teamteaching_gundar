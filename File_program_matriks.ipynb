{
  "nbformat": 4,
  "nbformat_minor": 0,
  "metadata": {
    "kernelspec": {
      "display_name": "Python 3",
      "language": "python",
      "name": "python3"
    },
    "language_info": {
      "codemirror_mode": {
        "name": "ipython",
        "version": 3
      },
      "file_extension": ".py",
      "mimetype": "text/x-python",
      "name": "python",
      "nbconvert_exporter": "python",
      "pygments_lexer": "ipython3",
      "version": "3.6.9"
    },
    "colab": {
      "name": "File-program-matriks.ipynb",
      "provenance": [],
      "collapsed_sections": [],
      "include_colab_link": true
    }
  },
  "cells": [
    {
      "cell_type": "markdown",
      "metadata": {
        "id": "view-in-github",
        "colab_type": "text"
      },
      "source": [
        "<a href=\"https://colab.research.google.com/github/geadalfa/teamteaching_gundar/blob/main/File_program_matriks.ipynb\" target=\"_parent\"><img src=\"https://colab.research.google.com/assets/colab-badge.svg\" alt=\"Open In Colab\"/></a>"
      ]
    },
    {
      "cell_type": "markdown",
      "metadata": {
        "id": "yaKZUArGy7sS"
      },
      "source": [
        "## Python Matriks dan NumPy Array"
      ]
    },
    {
      "cell_type": "markdown",
      "metadata": {
        "id": "l43ECX_Oy7sW"
      },
      "source": [
        "---"
      ]
    },
    {
      "cell_type": "markdown",
      "metadata": {
        "id": "oWh3w8--y7sX"
      },
      "source": [
        "Matriks adalah struktur data dua dimensi di mana angka-angka disusun menjadi baris dan kolom. Contohnya :"
      ]
    },
    {
      "cell_type": "markdown",
      "metadata": {
        "id": "MvSUSBwHy7sX"
      },
      "source": [
        "<img src=\"https://cdn.programiz.com/sites/tutorial2program/files/matrix.jpg\">"
      ]
    },
    {
      "cell_type": "markdown",
      "metadata": {
        "id": "qq6t_AWsy7sX"
      },
      "source": [
        "Matriks ini adalah matriks 3x4 (dibaca \"tiga kali empat\") karena memiliki 3 baris dan 4 kolom."
      ]
    },
    {
      "cell_type": "markdown",
      "metadata": {
        "id": "4THERENLy7sX"
      },
      "source": [
        "### Python Matriks\n",
        "Python tidak memiliki tipe built-in untuk matriks. Namun, kita dapat memperlakukan list di dalam list sebagai matriks. Sebagai contoh:"
      ]
    },
    {
      "cell_type": "code",
      "metadata": {
        "id": "0-DXRaECy7sY"
      },
      "source": [
        "A = [[1, 4, 5], \n",
        "    [-5, 8, 9]]"
      ],
      "execution_count": 1,
      "outputs": []
    },
    {
      "cell_type": "markdown",
      "metadata": {
        "id": "6k0A4X74y7sY"
      },
      "source": [
        "Kita dapat memperlakukan list ini sebagai matriks yang memiliki 2 baris dan 3 kolom.\n",
        "<img src=\"https://cdn.programiz.com/sites/tutorial2program/files/matrix-python-example.jpg\">"
      ]
    },
    {
      "cell_type": "markdown",
      "metadata": {
        "id": "iIYLtp1ky7sY"
      },
      "source": [
        "**Contoh Program**"
      ]
    },
    {
      "cell_type": "code",
      "metadata": {
        "id": "TAnwVvcpy7sY"
      },
      "source": [
        "A = [[1, 4, 5, 12], \n",
        "    [-5, 8, 9, 0],\n",
        "    [-6, 7, 11, 19]]"
      ],
      "execution_count": 2,
      "outputs": []
    },
    {
      "cell_type": "markdown",
      "metadata": {
        "id": "Rf75duCcy7sZ"
      },
      "source": [
        "Untuk mencetak atau mendapatkan seluruh nilai yang ada pada matriks di atas dapa digunakan perintah :"
      ]
    },
    {
      "cell_type": "code",
      "metadata": {
        "colab": {
          "base_uri": "https://localhost:8080/"
        },
        "id": "Rmp6Pk_iy7sZ",
        "outputId": "b2838205-0672-4c50-c904-014dd5d3a79c"
      },
      "source": [
        "print(\"A =\", A)"
      ],
      "execution_count": 3,
      "outputs": [
        {
          "output_type": "stream",
          "text": [
            "A = [[1, 4, 5, 12], [-5, 8, 9, 0], [-6, 7, 11, 19]]\n"
          ],
          "name": "stdout"
        }
      ]
    },
    {
      "cell_type": "markdown",
      "metadata": {
        "id": "U-ls2rV7y7sZ"
      },
      "source": [
        "Selain itu, kita juga dapat mendapatkan elemen tertentu dari matriks tersebut dengan cara :"
      ]
    },
    {
      "cell_type": "code",
      "metadata": {
        "colab": {
          "base_uri": "https://localhost:8080/"
        },
        "id": "cGlDSYHRy7sZ",
        "outputId": "9874b854-bf16-433e-d4d3-5fea99706907"
      },
      "source": [
        "print(\"A[1] =\", A[1])      # Baris ke-2\n",
        "\n",
        "print(\"A[1][2] =\", A[1][2])   # Elemen ke-3 dari baris ke-2\n",
        "\n",
        "print(\"A[0][-1] =\", A[0][-1])   # Elemen terakhir dari Baris ke-1"
      ],
      "execution_count": 4,
      "outputs": [
        {
          "output_type": "stream",
          "text": [
            "A[1] = [-5, 8, 9, 0]\n",
            "A[1][2] = 9\n",
            "A[0][-1] = 12\n"
          ],
          "name": "stdout"
        }
      ]
    },
    {
      "cell_type": "markdown",
      "metadata": {
        "id": "5FxDfUHcy7sZ"
      },
      "source": [
        "---\n",
        "### NumPy Array\n",
        "NumPy adalah sebuah library untuk komputasi ilmiah yang memiliki dukungan untuk objek array berdimensi-N. NumPy menyediakan deretan angka multidimensi (yang sebenarnya adalah sebuah objek). Contohnya:"
      ]
    },
    {
      "cell_type": "code",
      "metadata": {
        "colab": {
          "base_uri": "https://localhost:8080/"
        },
        "id": "97hu2TQoy7sa",
        "outputId": "fbe266be-8bb9-486b-a6b2-be77bdf9694c"
      },
      "source": [
        "import numpy as np\n",
        "\n",
        "a = np.array([1, 2, 3])\n",
        "\n",
        "print(a)               \n",
        "\n",
        "print(type(a))         "
      ],
      "execution_count": 5,
      "outputs": [
        {
          "output_type": "stream",
          "text": [
            "[1 2 3]\n",
            "<class 'numpy.ndarray'>\n"
          ],
          "name": "stdout"
        }
      ]
    },
    {
      "cell_type": "markdown",
      "metadata": {
        "id": "1KU3JaWsy7sa"
      },
      "source": [
        "Seperti yang Anda lihat, kelas array NumPy disebut ndarray.\n",
        "\n",
        "---\n",
        "\n",
        "### Bagaimana cara membuat array NumPy?\n",
        "Ada beberapa cara untuk membuat array NumPy.\n",
        "\n",
        "1. Array bilangan bulat, float dan Bilangan kompleks"
      ]
    },
    {
      "cell_type": "code",
      "metadata": {
        "colab": {
          "base_uri": "https://localhost:8080/"
        },
        "id": "Uzi0OwTTy7sa",
        "outputId": "dff6ab38-9a7e-4ad4-de0c-59500ed1a100"
      },
      "source": [
        "A = np.array([[1, 2, 3], [3, 4, 5]]) # Bilangan bulat\n",
        "print(A)"
      ],
      "execution_count": 6,
      "outputs": [
        {
          "output_type": "stream",
          "text": [
            "[[1 2 3]\n",
            " [3 4 5]]\n"
          ],
          "name": "stdout"
        }
      ]
    },
    {
      "cell_type": "code",
      "metadata": {
        "colab": {
          "base_uri": "https://localhost:8080/"
        },
        "id": "HVUMAB7Fy7sb",
        "outputId": "9d34d634-0069-4435-804e-08fcf2b6ed09"
      },
      "source": [
        "A = np.array([[1.1, 2, 3], [3, 4, 5]]) # float\n",
        "print(A)"
      ],
      "execution_count": 7,
      "outputs": [
        {
          "output_type": "stream",
          "text": [
            "[[1.1 2.  3. ]\n",
            " [3.  4.  5. ]]\n"
          ],
          "name": "stdout"
        }
      ]
    },
    {
      "cell_type": "code",
      "metadata": {
        "colab": {
          "base_uri": "https://localhost:8080/"
        },
        "id": "fO40jFbRy7sb",
        "outputId": "ef8cd9e4-f7df-4535-ee73-cc66d23fc8e5"
      },
      "source": [
        "A = np.array([[1, 2, 3], [3, 4, 5]], dtype = complex) # bilangan kompleks\n",
        "print(A)"
      ],
      "execution_count": 8,
      "outputs": [
        {
          "output_type": "stream",
          "text": [
            "[[1.+0.j 2.+0.j 3.+0.j]\n",
            " [3.+0.j 4.+0.j 5.+0.j]]\n"
          ],
          "name": "stdout"
        }
      ]
    },
    {
      "cell_type": "markdown",
      "metadata": {
        "id": "_TunY_2Zy7sb"
      },
      "source": [
        "---\n",
        "2. Array angka nol dan satu"
      ]
    },
    {
      "cell_type": "code",
      "metadata": {
        "colab": {
          "base_uri": "https://localhost:8080/"
        },
        "id": "lkoRu1G4y7sb",
        "outputId": "d6c1bfc4-e75b-4ebe-ff44-e9dacddd2472"
      },
      "source": [
        "zeroes_array = np.zeros( (2, 3) )\n",
        "print(zeroes_array)"
      ],
      "execution_count": 9,
      "outputs": [
        {
          "output_type": "stream",
          "text": [
            "[[0. 0. 0.]\n",
            " [0. 0. 0.]]\n"
          ],
          "name": "stdout"
        }
      ]
    },
    {
      "cell_type": "markdown",
      "metadata": {
        "id": "gfhAq5ZQy7sb"
      },
      "source": [
        "Selain itu, kita juga dapat menetapkan `dtype` menjadi 32 bit (4 byte). Karenanya, array ini dapat mengambil nilai dari <code>-2<sup>-31</sup></code> hingga <code>2<sup>-31</sup>-1</code>."
      ]
    },
    {
      "cell_type": "code",
      "metadata": {
        "colab": {
          "base_uri": "https://localhost:8080/"
        },
        "id": "a3VxHu5Ty7sb",
        "outputId": "e01d0b83-e57d-490d-8e01-42407efd466e"
      },
      "source": [
        "ones_array = np.ones( (1, 5), dtype=np.int32 ) # menentukan dtype\n",
        "print(ones_array)"
      ],
      "execution_count": 10,
      "outputs": [
        {
          "output_type": "stream",
          "text": [
            "[[1 1 1 1 1]]\n"
          ],
          "name": "stdout"
        }
      ]
    },
    {
      "cell_type": "markdown",
      "metadata": {
        "id": "Pn24b-R5y7sc"
      },
      "source": [
        "---\n",
        "\n",
        "### Operasi Matriks\n",
        "\n",
        "Pada contoh program selanjutnya akan dibuat 3 jenis program yaitu : penjumlahan dua buah matriks, perkalian dua buah matriks dan transpos sebuah matriks. Jika menggunakan program python biasa, kita memerlukan `nested lists` untuk membuat program tersebut. Namun ada cara yang lebih baik yaitu menggunakan library NumPy.\n",
        "\n",
        "#### Penambahan Dua Matriks\n",
        "\n",
        "<img src=\"https://i1.faceprep.in/Companies-1/matrix-addition-in-python.png\" width=\"35%\">\n",
        "Kita dapat menggunakan operator `+` untuk menambahkan elemen yang sesuai dari dua matriks NumPy."
      ]
    },
    {
      "cell_type": "code",
      "metadata": {
        "colab": {
          "base_uri": "https://localhost:8080/"
        },
        "id": "ZhBCrjjUy7sc",
        "outputId": "69789cb5-ee80-46f1-dcdd-541c408f0930"
      },
      "source": [
        "A = np.array(\n",
        "    [[3, 4], \n",
        "     [2, 1]])\n",
        "\n",
        "B = np.array(\n",
        "    [[1, 5], \n",
        "     [3, 7]])\n",
        "\n",
        "C = A + B   \n",
        "\n",
        "print(C)"
      ],
      "execution_count": 11,
      "outputs": [
        {
          "output_type": "stream",
          "text": [
            "[[4 9]\n",
            " [5 8]]\n"
          ],
          "name": "stdout"
        }
      ]
    },
    {
      "cell_type": "markdown",
      "metadata": {
        "id": "1oAjNmpEy7sc"
      },
      "source": [
        "---\n",
        "#### Perkalian Dua Matriks\n",
        "\n",
        "<img src=\"https://i1.faceprep.in/Companies-1/matrix-multiplication-in-python.png\" width=\"40%\">\n",
        "Untuk mengalikan dua matriks, kita menggunakan metode `dot()`. \n",
        "\n",
        "**Catatan**: `*` digunakan untuk perkalian array (perkalian elemen yang sesuai dari dua array) bukan perkalian matriks."
      ]
    },
    {
      "cell_type": "code",
      "metadata": {
        "colab": {
          "base_uri": "https://localhost:8080/"
        },
        "id": "za02i0V5y7sc",
        "outputId": "24220d3c-949c-4523-e229-b064d12e15fe"
      },
      "source": [
        "A = np.array(\n",
        "    [[3, 4], \n",
        "     [2, 1]])\n",
        "\n",
        "B = np.array(\n",
        "    [[1, 5], \n",
        "     [3, 7]])\n",
        "\n",
        "C = A.dot(B)\n",
        "\n",
        "print(C)"
      ],
      "execution_count": 12,
      "outputs": [
        {
          "output_type": "stream",
          "text": [
            "[[15 43]\n",
            " [ 5 17]]\n"
          ],
          "name": "stdout"
        }
      ]
    },
    {
      "cell_type": "markdown",
      "metadata": {
        "id": "adRApjk2y7sc"
      },
      "source": [
        "---\n",
        "#### Transpos Matriks\n",
        "\n",
        "<img src=\"https://i1.faceprep.in/Companies-1/transpose-of-a-matrix-in-python.png\" width=\"35%\">\n",
        "Kita dapat menggunakan `numpy.transpose` untuk menghitung transpos matriks."
      ]
    },
    {
      "cell_type": "code",
      "metadata": {
        "colab": {
          "base_uri": "https://localhost:8080/"
        },
        "id": "ICXwHFjwy7sd",
        "outputId": "0dd6b713-3629-4779-dfdc-351966de94ee"
      },
      "source": [
        "A = np.array(\n",
        "    [[3, 4], \n",
        "     [2, 1]])\n",
        "\n",
        "print(A.transpose())"
      ],
      "execution_count": 13,
      "outputs": [
        {
          "output_type": "stream",
          "text": [
            "[[3 2]\n",
            " [4 1]]\n"
          ],
          "name": "stdout"
        }
      ]
    },
    {
      "cell_type": "markdown",
      "metadata": {
        "id": "7NQGvvbVy7sd"
      },
      "source": [
        "---\n",
        "\n",
        "## Tugas\n",
        "Pada contoh program di atas, sudah di buat 3 program dengan memanfaatkan library NumPy yaitu : \n",
        "1. Penambahan dua matriks\n",
        "2. Perkalian dua matriks\n",
        "3. Transpos matriks\n",
        "\n",
        "Tugas anda adalah membuat 3 program tersebut tanpa menggunakan library NumPy.\n",
        "\n",
        "---"
      ]
    },
    {
      "cell_type": "markdown",
      "metadata": {
        "id": "zE964fYn1FhK"
      },
      "source": [
        "# 1. Penambahan 2 Matriks"
      ]
    },
    {
      "cell_type": "code",
      "metadata": {
        "colab": {
          "base_uri": "https://localhost:8080/"
        },
        "id": "U1WDyiJrz3F4",
        "outputId": "e462d750-b678-471f-d1f2-95aa057ce3a7"
      },
      "source": [
        "mat1 = np.array(\r\n",
        "    [[1, 6], \r\n",
        "     [3, 2]])\r\n",
        "\r\n",
        "mat2 = np.array(\r\n",
        "    [[8, 2], \r\n",
        "     [5, 4]])\r\n",
        "\r\n",
        "mat3 = mat1 + mat2   \r\n",
        "\r\n",
        "print(mat3)"
      ],
      "execution_count": 14,
      "outputs": [
        {
          "output_type": "stream",
          "text": [
            "[[9 8]\n",
            " [8 6]]\n"
          ],
          "name": "stdout"
        }
      ]
    },
    {
      "cell_type": "markdown",
      "metadata": {
        "id": "QrX4U5sE5OmT"
      },
      "source": [
        "# 2. Perkalian Dua Matriks"
      ]
    },
    {
      "cell_type": "code",
      "metadata": {
        "colab": {
          "base_uri": "https://localhost:8080/"
        },
        "id": "n-YhClgh7In0",
        "outputId": "5b7e6713-fbf2-41d0-f139-c6abf90ebf25"
      },
      "source": [
        "mat1 = np.array(\r\n",
        "    [[6, 3], \r\n",
        "     [2, 5]])\r\n",
        "\r\n",
        "mat2 = np.array(\r\n",
        "    [[2, 7], \r\n",
        "     [4, 9]])\r\n",
        "\r\n",
        "mat3 = mat1.dot(mat2)\r\n",
        "\r\n",
        "print(mat3)"
      ],
      "execution_count": 15,
      "outputs": [
        {
          "output_type": "stream",
          "text": [
            "[[24 69]\n",
            " [24 59]]\n"
          ],
          "name": "stdout"
        }
      ]
    },
    {
      "cell_type": "markdown",
      "metadata": {
        "id": "oZ2fvjo15TFj"
      },
      "source": [
        "# 3. Transpos Matriks"
      ]
    },
    {
      "cell_type": "code",
      "metadata": {
        "id": "0lly-ptr7icI"
      },
      "source": [
        ""
      ],
      "execution_count": null,
      "outputs": []
    }
  ]
}