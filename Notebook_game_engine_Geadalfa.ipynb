{
  "nbformat": 4,
  "nbformat_minor": 0,
  "metadata": {
    "kernelspec": {
      "display_name": "Python 3",
      "language": "python",
      "name": "python3"
    },
    "language_info": {
      "codemirror_mode": {
        "name": "ipython",
        "version": 3
      },
      "file_extension": ".py",
      "mimetype": "text/x-python",
      "name": "python",
      "nbconvert_exporter": "python",
      "pygments_lexer": "ipython3",
      "version": "3.6.9"
    },
    "colab": {
      "name": "Notebook-game-engine Geadalfa.ipynb",
      "provenance": [],
      "collapsed_sections": [],
      "toc_visible": true,
      "include_colab_link": true
    },
    "widgets": {
      "application/vnd.jupyter.widget-state+json": {
        "ab44647af1614079858a10c9b9afaa68": {
          "model_module": "@jupyter-widgets/controls",
          "model_name": "HBoxModel",
          "state": {
            "_view_name": "HBoxView",
            "_dom_classes": [],
            "_model_name": "HBoxModel",
            "_view_module": "@jupyter-widgets/controls",
            "_model_module_version": "1.5.0",
            "_view_count": null,
            "_view_module_version": "1.5.0",
            "box_style": "",
            "layout": "IPY_MODEL_f8e4d83e17a843fd8fe4e74d3977f328",
            "_model_module": "@jupyter-widgets/controls",
            "children": [
              "IPY_MODEL_21266779b3c8452f9913b27aeb0d43bd",
              "IPY_MODEL_1ec31824f579400c96b51d173eb10772"
            ]
          }
        },
        "f8e4d83e17a843fd8fe4e74d3977f328": {
          "model_module": "@jupyter-widgets/base",
          "model_name": "LayoutModel",
          "state": {
            "_view_name": "LayoutView",
            "grid_template_rows": null,
            "right": null,
            "justify_content": null,
            "_view_module": "@jupyter-widgets/base",
            "overflow": null,
            "_model_module_version": "1.2.0",
            "_view_count": null,
            "flex_flow": null,
            "width": null,
            "min_width": null,
            "border": null,
            "align_items": null,
            "bottom": null,
            "_model_module": "@jupyter-widgets/base",
            "top": null,
            "grid_column": null,
            "overflow_y": null,
            "overflow_x": null,
            "grid_auto_flow": null,
            "grid_area": null,
            "grid_template_columns": null,
            "flex": null,
            "_model_name": "LayoutModel",
            "justify_items": null,
            "grid_row": null,
            "max_height": null,
            "align_content": null,
            "visibility": null,
            "align_self": null,
            "height": null,
            "min_height": null,
            "padding": null,
            "grid_auto_rows": null,
            "grid_gap": null,
            "max_width": null,
            "order": null,
            "_view_module_version": "1.2.0",
            "grid_template_areas": null,
            "object_position": null,
            "object_fit": null,
            "grid_auto_columns": null,
            "margin": null,
            "display": null,
            "left": null
          }
        },
        "21266779b3c8452f9913b27aeb0d43bd": {
          "model_module": "@jupyter-widgets/controls",
          "model_name": "ButtonModel",
          "state": {
            "_view_name": "ButtonView",
            "style": "IPY_MODEL_52e568e9e7c547c083b8386d2d679382",
            "_dom_classes": [],
            "description": "0",
            "_model_name": "ButtonModel",
            "button_style": "",
            "_view_module": "@jupyter-widgets/controls",
            "_model_module_version": "1.5.0",
            "tooltip": "",
            "_view_count": null,
            "disabled": true,
            "_view_module_version": "1.5.0",
            "layout": "IPY_MODEL_e9a5c79e60df41e49bdaca8dde96277d",
            "_model_module": "@jupyter-widgets/controls",
            "icon": ""
          }
        },
        "1ec31824f579400c96b51d173eb10772": {
          "model_module": "@jupyter-widgets/controls",
          "model_name": "ButtonModel",
          "state": {
            "_view_name": "ButtonView",
            "style": "IPY_MODEL_2102d5d2e36b4cbfab8414749188f126",
            "_dom_classes": [],
            "description": "1",
            "_model_name": "ButtonModel",
            "button_style": "",
            "_view_module": "@jupyter-widgets/controls",
            "_model_module_version": "1.5.0",
            "tooltip": "",
            "_view_count": null,
            "disabled": true,
            "_view_module_version": "1.5.0",
            "layout": "IPY_MODEL_9c90e4b5100347dd9fe008e4365df26e",
            "_model_module": "@jupyter-widgets/controls",
            "icon": ""
          }
        },
        "52e568e9e7c547c083b8386d2d679382": {
          "model_module": "@jupyter-widgets/controls",
          "model_name": "ButtonStyleModel",
          "state": {
            "_view_name": "StyleView",
            "_model_name": "ButtonStyleModel",
            "_view_module": "@jupyter-widgets/base",
            "_model_module_version": "1.5.0",
            "_view_count": null,
            "button_color": null,
            "font_weight": "",
            "_view_module_version": "1.2.0",
            "_model_module": "@jupyter-widgets/controls"
          }
        },
        "e9a5c79e60df41e49bdaca8dde96277d": {
          "model_module": "@jupyter-widgets/base",
          "model_name": "LayoutModel",
          "state": {
            "_view_name": "LayoutView",
            "grid_template_rows": null,
            "right": null,
            "justify_content": null,
            "_view_module": "@jupyter-widgets/base",
            "overflow": null,
            "_model_module_version": "1.2.0",
            "_view_count": null,
            "flex_flow": null,
            "width": null,
            "min_width": null,
            "border": null,
            "align_items": null,
            "bottom": null,
            "_model_module": "@jupyter-widgets/base",
            "top": null,
            "grid_column": null,
            "overflow_y": null,
            "overflow_x": null,
            "grid_auto_flow": null,
            "grid_area": null,
            "grid_template_columns": null,
            "flex": null,
            "_model_name": "LayoutModel",
            "justify_items": null,
            "grid_row": null,
            "max_height": null,
            "align_content": null,
            "visibility": null,
            "align_self": null,
            "height": null,
            "min_height": null,
            "padding": null,
            "grid_auto_rows": null,
            "grid_gap": null,
            "max_width": null,
            "order": null,
            "_view_module_version": "1.2.0",
            "grid_template_areas": null,
            "object_position": null,
            "object_fit": null,
            "grid_auto_columns": null,
            "margin": null,
            "display": null,
            "left": null
          }
        },
        "2102d5d2e36b4cbfab8414749188f126": {
          "model_module": "@jupyter-widgets/controls",
          "model_name": "ButtonStyleModel",
          "state": {
            "_view_name": "StyleView",
            "_model_name": "ButtonStyleModel",
            "_view_module": "@jupyter-widgets/base",
            "_model_module_version": "1.5.0",
            "_view_count": null,
            "button_color": null,
            "font_weight": "",
            "_view_module_version": "1.2.0",
            "_model_module": "@jupyter-widgets/controls"
          }
        },
        "9c90e4b5100347dd9fe008e4365df26e": {
          "model_module": "@jupyter-widgets/base",
          "model_name": "LayoutModel",
          "state": {
            "_view_name": "LayoutView",
            "grid_template_rows": null,
            "right": null,
            "justify_content": null,
            "_view_module": "@jupyter-widgets/base",
            "overflow": null,
            "_model_module_version": "1.2.0",
            "_view_count": null,
            "flex_flow": null,
            "width": null,
            "min_width": null,
            "border": null,
            "align_items": null,
            "bottom": null,
            "_model_module": "@jupyter-widgets/base",
            "top": null,
            "grid_column": null,
            "overflow_y": null,
            "overflow_x": null,
            "grid_auto_flow": null,
            "grid_area": null,
            "grid_template_columns": null,
            "flex": null,
            "_model_name": "LayoutModel",
            "justify_items": null,
            "grid_row": null,
            "max_height": null,
            "align_content": null,
            "visibility": null,
            "align_self": null,
            "height": null,
            "min_height": null,
            "padding": null,
            "grid_auto_rows": null,
            "grid_gap": null,
            "max_width": null,
            "order": null,
            "_view_module_version": "1.2.0",
            "grid_template_areas": null,
            "object_position": null,
            "object_fit": null,
            "grid_auto_columns": null,
            "margin": null,
            "display": null,
            "left": null
          }
        },
        "e475846bd1054a3590ffc94662219d71": {
          "model_module": "@jupyter-widgets/controls",
          "model_name": "VBoxModel",
          "state": {
            "_view_name": "VBoxView",
            "_dom_classes": [],
            "_model_name": "VBoxModel",
            "_view_module": "@jupyter-widgets/controls",
            "_model_module_version": "1.5.0",
            "_view_count": null,
            "_view_module_version": "1.5.0",
            "box_style": "",
            "layout": "IPY_MODEL_d30b6bcac62649c7835d475d618421e5",
            "_model_module": "@jupyter-widgets/controls",
            "children": [
              "IPY_MODEL_262aa2cc1b7145639aa3d32516ba4685",
              "IPY_MODEL_0af7040a891c41d49a77166065806da4"
            ]
          }
        },
        "d30b6bcac62649c7835d475d618421e5": {
          "model_module": "@jupyter-widgets/base",
          "model_name": "LayoutModel",
          "state": {
            "_view_name": "LayoutView",
            "grid_template_rows": null,
            "right": null,
            "justify_content": null,
            "_view_module": "@jupyter-widgets/base",
            "overflow": null,
            "_model_module_version": "1.2.0",
            "_view_count": null,
            "flex_flow": null,
            "width": null,
            "min_width": null,
            "border": null,
            "align_items": null,
            "bottom": null,
            "_model_module": "@jupyter-widgets/base",
            "top": null,
            "grid_column": null,
            "overflow_y": null,
            "overflow_x": null,
            "grid_auto_flow": null,
            "grid_area": null,
            "grid_template_columns": null,
            "flex": null,
            "_model_name": "LayoutModel",
            "justify_items": null,
            "grid_row": null,
            "max_height": null,
            "align_content": null,
            "visibility": null,
            "align_self": null,
            "height": null,
            "min_height": null,
            "padding": null,
            "grid_auto_rows": null,
            "grid_gap": null,
            "max_width": null,
            "order": null,
            "_view_module_version": "1.2.0",
            "grid_template_areas": null,
            "object_position": null,
            "object_fit": null,
            "grid_auto_columns": null,
            "margin": null,
            "display": null,
            "left": null
          }
        },
        "262aa2cc1b7145639aa3d32516ba4685": {
          "model_module": "@jupyter-widgets/controls",
          "model_name": "IntProgressModel",
          "state": {
            "_view_name": "ProgressView",
            "style": "IPY_MODEL_6341be7a6c034008bfd407662da4ebe4",
            "_dom_classes": [],
            "description": "You:",
            "_model_name": "IntProgressModel",
            "bar_style": "success",
            "max": 30,
            "_view_module": "@jupyter-widgets/controls",
            "_model_module_version": "1.5.0",
            "value": 7,
            "_view_count": null,
            "_view_module_version": "1.5.0",
            "orientation": "horizontal",
            "min": 0,
            "description_tooltip": null,
            "_model_module": "@jupyter-widgets/controls",
            "layout": "IPY_MODEL_92e95d217c7b41fca802cffdee94e6da"
          }
        },
        "0af7040a891c41d49a77166065806da4": {
          "model_module": "@jupyter-widgets/controls",
          "model_name": "IntProgressModel",
          "state": {
            "_view_name": "ProgressView",
            "style": "IPY_MODEL_6dea6e5b54f94db6858387081bccf1bd",
            "_dom_classes": [],
            "description": "Bot:",
            "_model_name": "IntProgressModel",
            "bar_style": "danger",
            "max": 30,
            "_view_module": "@jupyter-widgets/controls",
            "_model_module_version": "1.5.0",
            "value": 30,
            "_view_count": null,
            "_view_module_version": "1.5.0",
            "orientation": "horizontal",
            "min": 0,
            "description_tooltip": null,
            "_model_module": "@jupyter-widgets/controls",
            "layout": "IPY_MODEL_5bcea0efb0dd41a88ef742c7c7b9fdc8"
          }
        },
        "6341be7a6c034008bfd407662da4ebe4": {
          "model_module": "@jupyter-widgets/controls",
          "model_name": "ProgressStyleModel",
          "state": {
            "_view_name": "StyleView",
            "_model_name": "ProgressStyleModel",
            "description_width": "",
            "_view_module": "@jupyter-widgets/base",
            "_model_module_version": "1.5.0",
            "_view_count": null,
            "_view_module_version": "1.2.0",
            "bar_color": null,
            "_model_module": "@jupyter-widgets/controls"
          }
        },
        "92e95d217c7b41fca802cffdee94e6da": {
          "model_module": "@jupyter-widgets/base",
          "model_name": "LayoutModel",
          "state": {
            "_view_name": "LayoutView",
            "grid_template_rows": null,
            "right": null,
            "justify_content": null,
            "_view_module": "@jupyter-widgets/base",
            "overflow": null,
            "_model_module_version": "1.2.0",
            "_view_count": null,
            "flex_flow": null,
            "width": null,
            "min_width": null,
            "border": null,
            "align_items": null,
            "bottom": null,
            "_model_module": "@jupyter-widgets/base",
            "top": null,
            "grid_column": null,
            "overflow_y": null,
            "overflow_x": null,
            "grid_auto_flow": null,
            "grid_area": null,
            "grid_template_columns": null,
            "flex": null,
            "_model_name": "LayoutModel",
            "justify_items": null,
            "grid_row": null,
            "max_height": null,
            "align_content": null,
            "visibility": null,
            "align_self": null,
            "height": null,
            "min_height": null,
            "padding": null,
            "grid_auto_rows": null,
            "grid_gap": null,
            "max_width": null,
            "order": null,
            "_view_module_version": "1.2.0",
            "grid_template_areas": null,
            "object_position": null,
            "object_fit": null,
            "grid_auto_columns": null,
            "margin": null,
            "display": null,
            "left": null
          }
        },
        "6dea6e5b54f94db6858387081bccf1bd": {
          "model_module": "@jupyter-widgets/controls",
          "model_name": "ProgressStyleModel",
          "state": {
            "_view_name": "StyleView",
            "_model_name": "ProgressStyleModel",
            "description_width": "",
            "_view_module": "@jupyter-widgets/base",
            "_model_module_version": "1.5.0",
            "_view_count": null,
            "_view_module_version": "1.2.0",
            "bar_color": null,
            "_model_module": "@jupyter-widgets/controls"
          }
        },
        "5bcea0efb0dd41a88ef742c7c7b9fdc8": {
          "model_module": "@jupyter-widgets/base",
          "model_name": "LayoutModel",
          "state": {
            "_view_name": "LayoutView",
            "grid_template_rows": null,
            "right": null,
            "justify_content": null,
            "_view_module": "@jupyter-widgets/base",
            "overflow": null,
            "_model_module_version": "1.2.0",
            "_view_count": null,
            "flex_flow": null,
            "width": null,
            "min_width": null,
            "border": null,
            "align_items": null,
            "bottom": null,
            "_model_module": "@jupyter-widgets/base",
            "top": null,
            "grid_column": null,
            "overflow_y": null,
            "overflow_x": null,
            "grid_auto_flow": null,
            "grid_area": null,
            "grid_template_columns": null,
            "flex": null,
            "_model_name": "LayoutModel",
            "justify_items": null,
            "grid_row": null,
            "max_height": null,
            "align_content": null,
            "visibility": null,
            "align_self": null,
            "height": null,
            "min_height": null,
            "padding": null,
            "grid_auto_rows": null,
            "grid_gap": null,
            "max_width": null,
            "order": null,
            "_view_module_version": "1.2.0",
            "grid_template_areas": null,
            "object_position": null,
            "object_fit": null,
            "grid_auto_columns": null,
            "margin": null,
            "display": null,
            "left": null
          }
        },
        "85d3ba2a4dee478c90612286b7f85460": {
          "model_module": "@jupyter-widgets/controls",
          "model_name": "HTMLModel",
          "state": {
            "_view_name": "HTMLView",
            "style": "IPY_MODEL_a0de05b48d564f049c6fd292fd837568",
            "_dom_classes": [],
            "description": "",
            "_model_name": "HTMLModel",
            "placeholder": "​",
            "_view_module": "@jupyter-widgets/controls",
            "_model_module_version": "1.5.0",
            "value": "<h1 style='color:red'> You Loose!</h1>",
            "_view_count": null,
            "_view_module_version": "1.5.0",
            "description_tooltip": null,
            "_model_module": "@jupyter-widgets/controls",
            "layout": "IPY_MODEL_ee6f9d4b24aa46648d131947ceebd3b0"
          }
        },
        "a0de05b48d564f049c6fd292fd837568": {
          "model_module": "@jupyter-widgets/controls",
          "model_name": "DescriptionStyleModel",
          "state": {
            "_view_name": "StyleView",
            "_model_name": "DescriptionStyleModel",
            "description_width": "",
            "_view_module": "@jupyter-widgets/base",
            "_model_module_version": "1.5.0",
            "_view_count": null,
            "_view_module_version": "1.2.0",
            "_model_module": "@jupyter-widgets/controls"
          }
        },
        "ee6f9d4b24aa46648d131947ceebd3b0": {
          "model_module": "@jupyter-widgets/base",
          "model_name": "LayoutModel",
          "state": {
            "_view_name": "LayoutView",
            "grid_template_rows": null,
            "right": null,
            "justify_content": null,
            "_view_module": "@jupyter-widgets/base",
            "overflow": null,
            "_model_module_version": "1.2.0",
            "_view_count": null,
            "flex_flow": null,
            "width": null,
            "min_width": null,
            "border": null,
            "align_items": null,
            "bottom": null,
            "_model_module": "@jupyter-widgets/base",
            "top": null,
            "grid_column": null,
            "overflow_y": null,
            "overflow_x": null,
            "grid_auto_flow": null,
            "grid_area": null,
            "grid_template_columns": null,
            "flex": null,
            "_model_name": "LayoutModel",
            "justify_items": null,
            "grid_row": null,
            "max_height": null,
            "align_content": null,
            "visibility": "visible",
            "align_self": null,
            "height": null,
            "min_height": null,
            "padding": null,
            "grid_auto_rows": null,
            "grid_gap": null,
            "max_width": null,
            "order": null,
            "_view_module_version": "1.2.0",
            "grid_template_areas": null,
            "object_position": null,
            "object_fit": null,
            "grid_auto_columns": null,
            "margin": null,
            "display": null,
            "left": null
          }
        },
        "ea40c0f3962248ca8ef0a8fd82d428e2": {
          "model_module": "@jupyter-widgets/controls",
          "model_name": "VBoxModel",
          "state": {
            "_view_name": "VBoxView",
            "_dom_classes": [],
            "_model_name": "VBoxModel",
            "_view_module": "@jupyter-widgets/controls",
            "_model_module_version": "1.5.0",
            "_view_count": null,
            "_view_module_version": "1.5.0",
            "box_style": "",
            "layout": "IPY_MODEL_3e15dec9b3ff414497cfbfe06ef8daa3",
            "_model_module": "@jupyter-widgets/controls",
            "children": [
              "IPY_MODEL_1bc168f815fa41e796c93cc6a9413f7f",
              "IPY_MODEL_ab44647af1614079858a10c9b9afaa68"
            ]
          }
        },
        "3e15dec9b3ff414497cfbfe06ef8daa3": {
          "model_module": "@jupyter-widgets/base",
          "model_name": "LayoutModel",
          "state": {
            "_view_name": "LayoutView",
            "grid_template_rows": null,
            "right": null,
            "justify_content": null,
            "_view_module": "@jupyter-widgets/base",
            "overflow": null,
            "_model_module_version": "1.2.0",
            "_view_count": null,
            "flex_flow": null,
            "width": null,
            "min_width": null,
            "border": null,
            "align_items": null,
            "bottom": null,
            "_model_module": "@jupyter-widgets/base",
            "top": null,
            "grid_column": null,
            "overflow_y": null,
            "overflow_x": null,
            "grid_auto_flow": null,
            "grid_area": null,
            "grid_template_columns": null,
            "flex": null,
            "_model_name": "LayoutModel",
            "justify_items": null,
            "grid_row": null,
            "max_height": null,
            "align_content": null,
            "visibility": null,
            "align_self": null,
            "height": null,
            "min_height": null,
            "padding": null,
            "grid_auto_rows": null,
            "grid_gap": null,
            "max_width": null,
            "order": null,
            "_view_module_version": "1.2.0",
            "grid_template_areas": null,
            "object_position": null,
            "object_fit": null,
            "grid_auto_columns": null,
            "margin": null,
            "display": null,
            "left": null
          }
        },
        "1bc168f815fa41e796c93cc6a9413f7f": {
          "model_module": "@jupyter-widgets/controls",
          "model_name": "HBoxModel",
          "state": {
            "_view_name": "HBoxView",
            "_dom_classes": [],
            "_model_name": "HBoxModel",
            "_view_module": "@jupyter-widgets/controls",
            "_model_module_version": "1.5.0",
            "_view_count": null,
            "_view_module_version": "1.5.0",
            "box_style": "",
            "layout": "IPY_MODEL_55ced6c93b6947ec91dfae8935159f2f",
            "_model_module": "@jupyter-widgets/controls",
            "children": [
              "IPY_MODEL_e475846bd1054a3590ffc94662219d71",
              "IPY_MODEL_85d3ba2a4dee478c90612286b7f85460"
            ]
          }
        },
        "55ced6c93b6947ec91dfae8935159f2f": {
          "model_module": "@jupyter-widgets/base",
          "model_name": "LayoutModel",
          "state": {
            "_view_name": "LayoutView",
            "grid_template_rows": null,
            "right": null,
            "justify_content": null,
            "_view_module": "@jupyter-widgets/base",
            "overflow": null,
            "_model_module_version": "1.2.0",
            "_view_count": null,
            "flex_flow": null,
            "width": null,
            "min_width": null,
            "border": null,
            "align_items": null,
            "bottom": null,
            "_model_module": "@jupyter-widgets/base",
            "top": null,
            "grid_column": null,
            "overflow_y": null,
            "overflow_x": null,
            "grid_auto_flow": null,
            "grid_area": null,
            "grid_template_columns": null,
            "flex": null,
            "_model_name": "LayoutModel",
            "justify_items": null,
            "grid_row": null,
            "max_height": null,
            "align_content": null,
            "visibility": null,
            "align_self": null,
            "height": null,
            "min_height": null,
            "padding": null,
            "grid_auto_rows": null,
            "grid_gap": null,
            "max_width": null,
            "order": null,
            "_view_module_version": "1.2.0",
            "grid_template_areas": null,
            "object_position": null,
            "object_fit": null,
            "grid_auto_columns": null,
            "margin": null,
            "display": null,
            "left": null
          }
        }
      }
    }
  },
  "cells": [
    {
      "cell_type": "markdown",
      "metadata": {
        "id": "view-in-github",
        "colab_type": "text"
      },
      "source": [
        "<a href=\"https://colab.research.google.com/github/geadalfa/teamteaching_gundar/blob/main/Notebook_game_engine_Geadalfa.ipynb\" target=\"_parent\"><img src=\"https://colab.research.google.com/assets/colab-badge.svg\" alt=\"Open In Colab\"/></a>"
      ]
    },
    {
      "cell_type": "markdown",
      "metadata": {
        "id": "o0kQtImYx3aF"
      },
      "source": [
        "# Source code Game Mind Reader"
      ]
    },
    {
      "cell_type": "markdown",
      "metadata": {
        "id": "pc1qlHNGx3aK"
      },
      "source": [
        "## 1. Penjelasan dan Ide Game\n",
        "**Mind Reader** adalah game sejenis dengan <span style='color:blue'>batu-gunting-kertas</span> melawan <span style='color:red'>komputer</span>. <span style='color:green'>Anda</span> dapat memilih angka **1 atau 0**. Kemudian <span style='color:red'>komputer</span> akan menebak pilihan <span style='color:green'>Anda</span> menggunakan **machine learning**. Jika <span style='color:red'>komputer</span> benar maka ia mendapat poin, kebalikannya maka <span style='color:green'>Anda</span> mendapat poin. Yang pertama mencapai **10 poin** menang!"
      ]
    },
    {
      "cell_type": "markdown",
      "metadata": {
        "id": "fuG5V81qx3aL"
      },
      "source": [
        "## 2. Import tools\n",
        "import tools yang akan kita pakai untuk membuat game ini"
      ]
    },
    {
      "cell_type": "code",
      "metadata": {
        "id": "a2sUyQnix3aL"
      },
      "source": [
        "from ipywidgets import *\n",
        "import numpy as np"
      ],
      "execution_count": 1,
      "outputs": []
    },
    {
      "cell_type": "markdown",
      "metadata": {
        "id": "XBG73953x3aM"
      },
      "source": [
        "## 3. Membuat Tombol\n",
        "Tombol ini digunakan untuk menentukan pilihan pengguna"
      ]
    },
    {
      "cell_type": "code",
      "metadata": {
        "colab": {
          "base_uri": "https://localhost:8080/",
          "height": 49,
          "referenced_widgets": [
            "ab44647af1614079858a10c9b9afaa68",
            "f8e4d83e17a843fd8fe4e74d3977f328",
            "21266779b3c8452f9913b27aeb0d43bd",
            "1ec31824f579400c96b51d173eb10772",
            "52e568e9e7c547c083b8386d2d679382",
            "e9a5c79e60df41e49bdaca8dde96277d",
            "2102d5d2e36b4cbfab8414749188f126",
            "9c90e4b5100347dd9fe008e4365df26e"
          ]
        },
        "id": "5epr7_EDx3aM",
        "outputId": "a0fb72ca-1e8e-410e-f070-6ce736823805"
      },
      "source": [
        "btn_zero = Button( description='0' )\n",
        "btn_one = Button( description='1' )\n",
        "btns = HBox( [btn_zero, btn_one] )\n",
        "btns"
      ],
      "execution_count": 2,
      "outputs": [
        {
          "output_type": "display_data",
          "data": {
            "application/vnd.jupyter.widget-view+json": {
              "model_id": "ab44647af1614079858a10c9b9afaa68",
              "version_minor": 0,
              "version_major": 2
            },
            "text/plain": [
              "HBox(children=(Button(description='0', style=ButtonStyle()), Button(description='1', style=ButtonStyle())))"
            ]
          },
          "metadata": {
            "tags": []
          }
        }
      ]
    },
    {
      "cell_type": "markdown",
      "metadata": {
        "id": "E6SHySXfx3aN"
      },
      "source": [
        "# 4. Scoreboard\n",
        "Kita menggunakan dua progress bar untuk menunjukkan scoreboard"
      ]
    },
    {
      "cell_type": "code",
      "metadata": {
        "colab": {
          "base_uri": "https://localhost:8080/",
          "height": 81,
          "referenced_widgets": [
            "e475846bd1054a3590ffc94662219d71",
            "d30b6bcac62649c7835d475d618421e5",
            "262aa2cc1b7145639aa3d32516ba4685",
            "0af7040a891c41d49a77166065806da4",
            "6341be7a6c034008bfd407662da4ebe4",
            "92e95d217c7b41fca802cffdee94e6da",
            "6dea6e5b54f94db6858387081bccf1bd",
            "5bcea0efb0dd41a88ef742c7c7b9fdc8"
          ]
        },
        "id": "n-C-YO0Gx3aN",
        "outputId": "5c75dd36-38be-4f90-e8cf-22d0ae86280b"
      },
      "source": [
        "usr_score = IntProgress( value=0, min=0, max=30, description='You:', bar_style='success')\n",
        "bot_score = IntProgress( value=0, min=0, max=30, description='Bot:', bar_style='danger')\n",
        "scoreboard = VBox( [usr_score, bot_score])\n",
        "scoreboard"
      ],
      "execution_count": 3,
      "outputs": [
        {
          "output_type": "display_data",
          "data": {
            "application/vnd.jupyter.widget-view+json": {
              "model_id": "e475846bd1054a3590ffc94662219d71",
              "version_minor": 0,
              "version_major": 2
            },
            "text/plain": [
              "VBox(children=(IntProgress(value=0, bar_style='success', description='You:', max=30), IntProgress(value=0, bar…"
            ]
          },
          "metadata": {
            "tags": []
          }
        }
      ]
    },
    {
      "cell_type": "markdown",
      "metadata": {
        "id": "xHKMpY8lx3aO"
      },
      "source": [
        "# 5. Pesan Game Over\n",
        "Di akhir permainan, bergantung dari anda kalah atau menang kita akan mencetak *\"You Win\"* atau *\"You Loose!\"*"
      ]
    },
    {
      "cell_type": "code",
      "metadata": {
        "colab": {
          "base_uri": "https://localhost:8080/",
          "height": 70,
          "referenced_widgets": [
            "85d3ba2a4dee478c90612286b7f85460",
            "a0de05b48d564f049c6fd292fd837568",
            "ee6f9d4b24aa46648d131947ceebd3b0"
          ]
        },
        "id": "YuPdnJ3Qx3aO",
        "outputId": "a1153a46-caa2-4d6c-8116-afb793c0119e"
      },
      "source": [
        "final_msg = HTML(\"<h1 style='color:green'> You Win!</h1>\")\n",
        "final_msg"
      ],
      "execution_count": 4,
      "outputs": [
        {
          "output_type": "display_data",
          "data": {
            "application/vnd.jupyter.widget-view+json": {
              "model_id": "85d3ba2a4dee478c90612286b7f85460",
              "version_minor": 0,
              "version_major": 2
            },
            "text/plain": [
              "HTML(value=\"<h1 style='color:green'> You Win!</h1>\")"
            ]
          },
          "metadata": {
            "tags": []
          }
        }
      ]
    },
    {
      "cell_type": "markdown",
      "metadata": {
        "id": "RSwY3V2_x3aO"
      },
      "source": [
        "# 6. Game Box\n",
        "Sekarang kita akan menyatukan semua widgets di dalam sebuah kotak bernama game_box"
      ]
    },
    {
      "cell_type": "code",
      "metadata": {
        "colab": {
          "base_uri": "https://localhost:8080/",
          "height": 113,
          "referenced_widgets": [
            "ea40c0f3962248ca8ef0a8fd82d428e2",
            "3e15dec9b3ff414497cfbfe06ef8daa3",
            "1bc168f815fa41e796c93cc6a9413f7f",
            "ab44647af1614079858a10c9b9afaa68",
            "55ced6c93b6947ec91dfae8935159f2f",
            "e475846bd1054a3590ffc94662219d71",
            "85d3ba2a4dee478c90612286b7f85460",
            "f8e4d83e17a843fd8fe4e74d3977f328",
            "21266779b3c8452f9913b27aeb0d43bd",
            "1ec31824f579400c96b51d173eb10772",
            "d30b6bcac62649c7835d475d618421e5",
            "262aa2cc1b7145639aa3d32516ba4685",
            "0af7040a891c41d49a77166065806da4",
            "a0de05b48d564f049c6fd292fd837568",
            "ee6f9d4b24aa46648d131947ceebd3b0",
            "52e568e9e7c547c083b8386d2d679382",
            "e9a5c79e60df41e49bdaca8dde96277d",
            "2102d5d2e36b4cbfab8414749188f126",
            "9c90e4b5100347dd9fe008e4365df26e",
            "6341be7a6c034008bfd407662da4ebe4",
            "92e95d217c7b41fca802cffdee94e6da",
            "6dea6e5b54f94db6858387081bccf1bd",
            "5bcea0efb0dd41a88ef742c7c7b9fdc8"
          ]
        },
        "id": "dDcH9INLx3aP",
        "outputId": "41e1d6ad-3a25-49b2-f6c4-400fa0defc23"
      },
      "source": [
        "game_box = VBox([   HBox( [scoreboard, final_msg] ), \n",
        "                    btns \n",
        "                ])\n",
        "game_box"
      ],
      "execution_count": 5,
      "outputs": [
        {
          "output_type": "display_data",
          "data": {
            "application/vnd.jupyter.widget-view+json": {
              "model_id": "ea40c0f3962248ca8ef0a8fd82d428e2",
              "version_minor": 0,
              "version_major": 2
            },
            "text/plain": [
              "VBox(children=(HBox(children=(VBox(children=(IntProgress(value=0, bar_style='success', description='You:', max…"
            ]
          },
          "metadata": {
            "tags": []
          }
        }
      ]
    },
    {
      "cell_type": "code",
      "metadata": {
        "id": "mmaaNJUKx3aP"
      },
      "source": [
        "final_msg.layout.visibility = 'hidden'"
      ],
      "execution_count": 6,
      "outputs": []
    },
    {
      "cell_type": "markdown",
      "metadata": {
        "id": "hIoFHz15x3aP"
      },
      "source": [
        "# 7. Function : Update Game\n",
        "Di sini kita akan membuat sebuah fungsi untuk melakukan update setelah setiap kali kita memilih angka. Yang akan dilakukan adalah :\n",
        "1. Komputer akan menebak angka yang kita pilih dari riwayat pilihan kita sebelumnya\n",
        "2. Menambahkan 1 pada score komputer jika menebak angka anda dengan tepat, dan menambahkan 1 pada score anda jika tebakannya salah\n",
        "3. Stop permainan saat salah satu sudah menang"
      ]
    },
    {
      "cell_type": "code",
      "metadata": {
        "id": "bc4Fx0Snx3aQ"
      },
      "source": [
        "def click_zero(b):\n",
        "    update_game(0)\n",
        "btn_zero.on_click( click_zero )"
      ],
      "execution_count": 7,
      "outputs": []
    },
    {
      "cell_type": "code",
      "metadata": {
        "id": "Te7ZiXxux3aQ"
      },
      "source": [
        "def click_one(b):\n",
        "    update_game(1)\n",
        "btn_one.on_click( click_one )"
      ],
      "execution_count": 8,
      "outputs": []
    },
    {
      "cell_type": "code",
      "metadata": {
        "id": "GEOZraRdx3aQ"
      },
      "source": [
        "def update_game( usr_choice ):\n",
        "    prob = sum( usr_history ) / len( usr_history )\n",
        "    comp_choice = np.random.binomial(1, prob, 1)[0]\n",
        "    usr_history.append( usr_choice )\n",
        "    \n",
        "    if comp_choice == usr_choice:\n",
        "        bot_score.value += 1\n",
        "    else:\n",
        "        usr_score.value += 1\n",
        "        \n",
        "    if usr_score.value == 30 or bot_score.value == 30:\n",
        "        if bot_score.value == 30:\n",
        "            final_msg.value = \"<h1 style='color:red'> You Loose!</h1>\"\n",
        "        final_msg.layout.visibility = \"visible\"\n",
        "        btn_zero.disabled = True\n",
        "        btn_one.disabled = True\n",
        "    \n",
        "    return"
      ],
      "execution_count": 9,
      "outputs": []
    },
    {
      "cell_type": "code",
      "metadata": {
        "id": "aFPQgLY9x3aQ"
      },
      "source": [
        "usr_history = []"
      ],
      "execution_count": 10,
      "outputs": []
    },
    {
      "cell_type": "code",
      "metadata": {
        "id": "DPdrtSakx3aR"
      },
      "source": [
        "usr_history.append(1)"
      ],
      "execution_count": 11,
      "outputs": []
    },
    {
      "cell_type": "code",
      "metadata": {
        "id": "WJm2ufyBx3aR"
      },
      "source": [
        "usr_history.append(0)"
      ],
      "execution_count": 12,
      "outputs": []
    },
    {
      "cell_type": "code",
      "metadata": {
        "colab": {
          "base_uri": "https://localhost:8080/"
        },
        "id": "Fpv4oT1xx3aR",
        "outputId": "37fe92dc-557f-4c79-c674-10a855829bdc"
      },
      "source": [
        "usr_history"
      ],
      "execution_count": 13,
      "outputs": [
        {
          "output_type": "execute_result",
          "data": {
            "text/plain": [
              "[1, 0]"
            ]
          },
          "metadata": {
            "tags": []
          },
          "execution_count": 13
        }
      ]
    },
    {
      "cell_type": "code",
      "metadata": {
        "colab": {
          "base_uri": "https://localhost:8080/"
        },
        "id": "7A2HlTg7x3aR",
        "outputId": "7ff68099-9e35-442d-e07e-5da547174e1b"
      },
      "source": [
        "sum( usr_history )"
      ],
      "execution_count": 14,
      "outputs": [
        {
          "output_type": "execute_result",
          "data": {
            "text/plain": [
              "1"
            ]
          },
          "metadata": {
            "tags": []
          },
          "execution_count": 14
        }
      ]
    },
    {
      "cell_type": "code",
      "metadata": {
        "colab": {
          "base_uri": "https://localhost:8080/"
        },
        "id": "zf_OqT3rx3aR",
        "outputId": "3fd11f56-a450-4797-b984-af6891e8f831"
      },
      "source": [
        "len( usr_history )"
      ],
      "execution_count": 15,
      "outputs": [
        {
          "output_type": "execute_result",
          "data": {
            "text/plain": [
              "2"
            ]
          },
          "metadata": {
            "tags": []
          },
          "execution_count": 15
        }
      ]
    },
    {
      "cell_type": "code",
      "metadata": {
        "colab": {
          "base_uri": "https://localhost:8080/"
        },
        "id": "esNCobz1x3aS",
        "outputId": "232c7bd4-d4de-4ae9-833c-28b7f90fa676"
      },
      "source": [
        "prob = sum( usr_history ) / len( usr_history)\n",
        "prob"
      ],
      "execution_count": 16,
      "outputs": [
        {
          "output_type": "execute_result",
          "data": {
            "text/plain": [
              "0.5"
            ]
          },
          "metadata": {
            "tags": []
          },
          "execution_count": 16
        }
      ]
    },
    {
      "cell_type": "code",
      "metadata": {
        "colab": {
          "base_uri": "https://localhost:8080/"
        },
        "id": "zujRTsdNx3aS",
        "outputId": "2c01f4c1-fa2c-4ac9-fd3b-522b7440fc0d"
      },
      "source": [
        "comp_choice = np.random.binomial(1, prob)\n",
        "comp_choice"
      ],
      "execution_count": 17,
      "outputs": [
        {
          "output_type": "execute_result",
          "data": {
            "text/plain": [
              "1"
            ]
          },
          "metadata": {
            "tags": []
          },
          "execution_count": 17
        }
      ]
    },
    {
      "cell_type": "markdown",
      "metadata": {
        "id": "iQ6j6l_Lx3aS"
      },
      "source": [
        "# 8. Play\n",
        "Agar game Mind Reader tampil di file lain"
      ]
    },
    {
      "cell_type": "code",
      "metadata": {
        "colab": {
          "base_uri": "https://localhost:8080/",
          "height": 113,
          "referenced_widgets": [
            "ea40c0f3962248ca8ef0a8fd82d428e2",
            "3e15dec9b3ff414497cfbfe06ef8daa3",
            "1bc168f815fa41e796c93cc6a9413f7f",
            "ab44647af1614079858a10c9b9afaa68",
            "55ced6c93b6947ec91dfae8935159f2f",
            "e475846bd1054a3590ffc94662219d71",
            "85d3ba2a4dee478c90612286b7f85460",
            "f8e4d83e17a843fd8fe4e74d3977f328",
            "21266779b3c8452f9913b27aeb0d43bd",
            "1ec31824f579400c96b51d173eb10772",
            "d30b6bcac62649c7835d475d618421e5",
            "262aa2cc1b7145639aa3d32516ba4685",
            "0af7040a891c41d49a77166065806da4",
            "a0de05b48d564f049c6fd292fd837568",
            "ee6f9d4b24aa46648d131947ceebd3b0",
            "52e568e9e7c547c083b8386d2d679382",
            "e9a5c79e60df41e49bdaca8dde96277d",
            "2102d5d2e36b4cbfab8414749188f126",
            "9c90e4b5100347dd9fe008e4365df26e",
            "6341be7a6c034008bfd407662da4ebe4",
            "92e95d217c7b41fca802cffdee94e6da",
            "6dea6e5b54f94db6858387081bccf1bd",
            "5bcea0efb0dd41a88ef742c7c7b9fdc8"
          ]
        },
        "id": "uK3A6Fhyx3aS",
        "outputId": "f758a4a5-5c07-4d04-f62b-f83c30d33e19"
      },
      "source": [
        "display( game_box )"
      ],
      "execution_count": 18,
      "outputs": [
        {
          "output_type": "display_data",
          "data": {
            "application/vnd.jupyter.widget-view+json": {
              "model_id": "ea40c0f3962248ca8ef0a8fd82d428e2",
              "version_minor": 0,
              "version_major": 2
            },
            "text/plain": [
              "VBox(children=(HBox(children=(VBox(children=(IntProgress(value=0, bar_style='success', description='You:', max…"
            ]
          },
          "metadata": {
            "tags": []
          }
        }
      ]
    }
  ]
}